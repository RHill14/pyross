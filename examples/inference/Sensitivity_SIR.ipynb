{
 "cells": [
  {
   "cell_type": "markdown",
   "metadata": {},
   "source": [
    "## Sensitivity analysis - finite differences\n"
   ]
  },
  {
   "cell_type": "code",
   "execution_count": 1,
   "metadata": {},
   "outputs": [],
   "source": [
    "%%capture\n",
    "## compile PyRoss for this notebook\n",
    "import os\n",
    "owd = os.getcwd()\n",
    "os.chdir('../../')\n",
    "%run setup.py install\n",
    "os.chdir(owd)"
   ]
  },
  {
   "cell_type": "code",
   "execution_count": 2,
   "metadata": {},
   "outputs": [],
   "source": [
    "%matplotlib inline\n",
    "import numpy as np\n",
    "from matplotlib import pyplot as plt\n",
    "import pyross\n",
    "import time \n",
    "from scipy.misc import derivative"
   ]
  },
  {
   "cell_type": "code",
   "execution_count": 24,
   "metadata": {},
   "outputs": [],
   "source": [
    "M = 2                # the population has two age groups\n",
    "N = 5e4              # and this is the total population\n",
    "\n",
    "# parameters for generating synthetic trajectory \n",
    "beta  = 0.02         # infection rate\n",
    "gIa   = 1./7         # recovery rate of asymptomatic infectives\n",
    "gIs   = 1./7         # recovery rate of asymptomatic infectives\n",
    "alpha = 0.2          # fraction of asymptomatic infectives\n",
    "fsa   = 0.8          # the self-isolation parameter\n",
    "\n",
    "# set the age structure\n",
    "fi = np.array([0.25, 0.75])  # fraction of population in age age group\n",
    "Ni = N*fi\n",
    "\n",
    "# set the contact structure\n",
    "C = np.array([[18., 9.], \n",
    "              [3., 12.]]) \n",
    "# C_ij = number of people group from group i that an individual from group j meets per day \n",
    "\n",
    "# set up initial condition\n",
    "Ia0 = np.array([10, 10])  # each age group has asymptomatic infectives\n",
    "Is0 = np.array([2, 2])  # and also symptomatic infectives\n",
    "R0  = np.array([0, 0])    # there are no recovered individuals initially\n",
    "S0  = Ni - (Ia0 + Is0 + R0)\n",
    "\n",
    "Tf = 100\n",
    "Nf = Tf+1\n",
    "\n",
    "def contactMatrix(t):\n",
    "    return C\n",
    "\n",
    "parameters = {'alpha':alpha, 'beta':beta, 'gIa':gIa, 'gIs':gIs,'fsa':fsa}\n",
    "X = np.load('sto_traj_fix.npy').astype('float')\n",
    "x = (X/N)\n",
    "\n",
    "steps = 5\n",
    "estimator = pyross.inference.SIR(parameters, M, fi, int(N), steps)\n",
    "\n",
    "# use faster ODE methods to speed up inference \n",
    "estimator.set_lyapunov_method('RK2')\n",
    "estimator.set_det_method('euler')"
   ]
  },
  {
   "cell_type": "code",
   "execution_count": 25,
   "metadata": {},
   "outputs": [
    {
     "name": "stdout",
     "output_type": "stream",
     "text": [
      "-4286.325041188613\n",
      "0.014685869216918945\n"
     ]
    }
   ],
   "source": [
    "# logP of correct parameters \n",
    "start_time = time.time() \n",
    "parameters = {'alpha':alpha, 'beta':beta, 'gIa':gIa, 'gIs':gIs,'fsa':fsa}\n",
    "logp = estimator.obtain_minus_log_p(parameters, x, Tf, Nf,\n",
    "                                    contactMatrix, tangent=True)\n",
    "end_time = time.time()\n",
    "print(logp) \n",
    "print(end_time - start_time)"
   ]
  },
  {
   "cell_type": "code",
   "execution_count": 26,
   "metadata": {},
   "outputs": [
    {
     "name": "stdout",
     "output_type": "stream",
     "text": [
      "Optimal value (local minimisation):  -4295.532243996349\n",
      "[0.20952031 0.02008036 0.14791327 0.14231912]\n",
      "1.0980720520019531\n"
     ]
    }
   ],
   "source": [
    "# the names of the parameters to be inferred \n",
    "keys = ['alpha', 'beta', 'gIa', 'gIs']\n",
    "\n",
    "# Define the prior (log normal prior around guess of parameter with defined std. deviation)\n",
    "alpha_g = 0.25\n",
    "beta_g = 0.04\n",
    "gIa_g = 0.1\n",
    "gIs_g = 0.1\n",
    "\n",
    "# initial guess \n",
    "guess = np.array([alpha_g, beta_g, gIa_g, gIs_g])  \n",
    "\n",
    "# error bars on the initial guess \n",
    "alpha_std = 0.2\n",
    "beta_std = 0.1\n",
    "gIa_std = 0.2\n",
    "gIs_std = 0.2\n",
    "stds = np.array([alpha_std, beta_std , gIa_std, gIs_std])\n",
    "\n",
    "eps = 1e-4\n",
    "# bounds on the parameters \n",
    "bounds = np.array([(eps, 0.8), (eps, 0.2), (eps, 0.6), (eps, 0.6)]) \n",
    "\n",
    "# Stopping criterion for minimisation (realtive change in function value)\n",
    "ftol = 1e-6  \n",
    "start_time = time.time() \n",
    "params = estimator.infer_parameters(keys, guess, stds, bounds, x, \n",
    "                                    Tf, Nf, \n",
    "                                    contactMatrix, \n",
    "                                    tangent=True, \n",
    "                                    global_max_iter=20,\n",
    "                                    local_max_iter=200, \n",
    "                                    global_ftol_factor=1e1, \n",
    "                                    enable_global=False,\n",
    "                                    ftol=ftol, \n",
    "                                    verbose=True)\n",
    "end_time = time.time()\n",
    "\n",
    "print(params) # best guess \n",
    "print(end_time - start_time)"
   ]
  },
  {
   "cell_type": "code",
   "execution_count": 6,
   "metadata": {},
   "outputs": [],
   "source": [
    "x0 = x[0,:]\n",
    "\n",
    "def is_pos_def(x):\n",
    "    return np.all(np.linalg.eigvals(x) > 0)"
   ]
  },
  {
   "cell_type": "markdown",
   "metadata": {},
   "source": [
    "## Tangent space"
   ]
  },
  {
   "cell_type": "code",
   "execution_count": 7,
   "metadata": {},
   "outputs": [
    {
     "name": "stdout",
     "output_type": "stream",
     "text": [
      "22.090938568115234\n"
     ]
    }
   ],
   "source": [
    "start = time.time()\n",
    "FIM_tan = estimator.FIM(keys,params, x0, Tf, Nf,\n",
    "                    contactMatrix, dx=1e-10, tangent=True)\n",
    "end = time.time()\n",
    "print(end-start)"
   ]
  },
  {
   "cell_type": "code",
   "execution_count": 8,
   "metadata": {},
   "outputs": [
    {
     "data": {
      "text/plain": [
       "True"
      ]
     },
     "execution_count": 8,
     "metadata": {},
     "output_type": "execute_result"
    }
   ],
   "source": [
    "## FIM_tan positive definite? \n",
    "is_pos_def(FIM_tan)"
   ]
  },
  {
   "cell_type": "code",
   "execution_count": 9,
   "metadata": {},
   "outputs": [
    {
     "data": {
      "text/plain": [
       "array([0.01420718, 0.02202296, 0.00021697, 0.00024023, 0.00026591,\n",
       "       0.00028671, 0.01942767, 0.00063902, 0.0149506 , 0.00578613])"
      ]
     },
     "execution_count": 9,
     "metadata": {},
     "output_type": "execute_result"
    }
   ],
   "source": [
    "## 'expected' Bayesian credible intervals, \n",
    "## order: np.concatenate(x0,epi_params)\n",
    "expected_BCI_tan = np.sqrt(np.diagonal(np.linalg.inv(FIM_tan)))\n",
    "expected_BCI_tan"
   ]
  },
  {
   "cell_type": "markdown",
   "metadata": {},
   "source": [
    "## Manifold"
   ]
  },
  {
   "cell_type": "code",
   "execution_count": 10,
   "metadata": {},
   "outputs": [
    {
     "name": "stdout",
     "output_type": "stream",
     "text": [
      "90.1551296710968\n"
     ]
    }
   ],
   "source": [
    "start = time.time()\n",
    "FIM_mfd = estimator.FIM(keys,params, x0, Tf, Nf,\n",
    "                    contactMatrix, dx=1e-10, tangent=False)\n",
    "end = time.time()\n",
    "print(end-start)"
   ]
  },
  {
   "cell_type": "code",
   "execution_count": 11,
   "metadata": {},
   "outputs": [
    {
     "data": {
      "text/plain": [
       "True"
      ]
     },
     "execution_count": 11,
     "metadata": {},
     "output_type": "execute_result"
    }
   ],
   "source": [
    "## FIM_tan positive definite? \n",
    "is_pos_def(FIM_mfd)"
   ]
  },
  {
   "cell_type": "code",
   "execution_count": 12,
   "metadata": {},
   "outputs": [
    {
     "data": {
      "text/plain": [
       "array([0.01404174, 0.02132621, 0.00026352, 0.00028354, 0.0003283 ,\n",
       "       0.00035327, 0.01998453, 0.00062269, 0.01568876, 0.00598668])"
      ]
     },
     "execution_count": 12,
     "metadata": {},
     "output_type": "execute_result"
    }
   ],
   "source": [
    "## 'expected' Bayesian credible intervals, \n",
    "## order: np.concatenate(x0,epi_params)\n",
    "expected_BCI_mfd = np.sqrt(np.diagonal(np.linalg.inv(FIM_mfd)))\n",
    "expected_BCI_mfd"
   ]
  },
  {
   "cell_type": "markdown",
   "metadata": {},
   "source": [
    "## Sensitivity measure from Komogorov paper (tangent)"
   ]
  },
  {
   "cell_type": "code",
   "execution_count": 13,
   "metadata": {},
   "outputs": [],
   "source": [
    "from scipy.linalg import eig"
   ]
  },
  {
   "cell_type": "code",
   "execution_count": 14,
   "metadata": {},
   "outputs": [],
   "source": [
    "evals, evecs = eig(FIM_tan)"
   ]
  },
  {
   "cell_type": "code",
   "execution_count": 15,
   "metadata": {},
   "outputs": [],
   "source": [
    "L = np.diag(np.real(evals))\n",
    "C = evecs "
   ]
  },
  {
   "cell_type": "code",
   "execution_count": 16,
   "metadata": {},
   "outputs": [],
   "source": [
    "S_ij = np.sqrt(L)@C\n",
    "S2_ij = S_ij**2\n",
    "S2_j = np.sum(S2_ij, axis=0)\n",
    "Norm = np.sum(S2_j)\n",
    "T_j = np.divide(S2_j,Norm)"
   ]
  },
  {
   "cell_type": "code",
   "execution_count": 17,
   "metadata": {},
   "outputs": [
    {
     "data": {
      "text/plain": [
       "array([0.00326135, 0.00178729, 0.0014629 , 0.00297122, 0.00097864,\n",
       "       0.00396068, 0.00689749, 0.89999071, 0.06737493, 0.0113148 ])"
      ]
     },
     "execution_count": 17,
     "metadata": {},
     "output_type": "execute_result"
    }
   ],
   "source": [
    "## Sensitivity measure\n",
    "T_j"
   ]
  },
  {
   "cell_type": "code",
   "execution_count": 18,
   "metadata": {},
   "outputs": [
    {
     "data": {
      "text/plain": [
       "array([3.74726774e+09, 3.26697291e+07, 1.64916715e+07, 9.07541595e+06,\n",
       "       9.01974035e+06, 4.80151076e+04, 9.26003742e+03, 5.44010502e+03,\n",
       "       2.26449861e+03, 1.76240671e+03])"
      ]
     },
     "execution_count": 18,
     "metadata": {},
     "output_type": "execute_result"
    }
   ],
   "source": [
    "## Eigenvalues \n",
    "np.real(evals)"
   ]
  },
  {
   "cell_type": "code",
   "execution_count": null,
   "metadata": {},
   "outputs": [],
   "source": []
  },
  {
   "cell_type": "markdown",
   "metadata": {},
   "source": [
    "### Aside: Hessian investigation\n"
   ]
  },
  {
   "cell_type": "code",
   "execution_count": 27,
   "metadata": {},
   "outputs": [],
   "source": [
    "import numdifftools as nd"
   ]
  },
  {
   "cell_type": "code",
   "execution_count": 28,
   "metadata": {},
   "outputs": [
    {
     "data": {
      "text/plain": [
       "array([0.20952031, 0.02008036, 0.14791327, 0.14231912])"
      ]
     },
     "execution_count": 28,
     "metadata": {},
     "output_type": "execute_result"
    }
   ],
   "source": [
    "params"
   ]
  },
  {
   "cell_type": "code",
   "execution_count": 29,
   "metadata": {},
   "outputs": [],
   "source": [
    "def logP(params):\n",
    "    params = {'alpha':params[0], 'beta':params[1], 'gIa':params[2],\n",
    "             'gIs':params[3], 'fsa': fsa}\n",
    "    logp = estimator.obtain_minus_log_p(params, x, Tf, Nf,\n",
    "                                    contactMatrix, tangent=True)\n",
    "    return logp\n"
   ]
  },
  {
   "cell_type": "code",
   "execution_count": 30,
   "metadata": {},
   "outputs": [
    {
     "name": "stdout",
     "output_type": "stream",
     "text": [
      "Numdifftool:    [0.00391204 0.00007097 0.00279738 0.00086475]\n",
      "NumHessian:     [0.00540851 0.00010293 0.00387417 0.00120003]\n",
      "RelError:       [-0.27668745 -0.31043768 -0.27793999 -0.27939063]\n",
      "\n",
      "\n",
      "Autograd:       [0.00547942, 0.00010017, 0.00390985, 0.0012171]\n"
     ]
    }
   ],
   "source": [
    "## Try hessian with numdifftools\n",
    "hess_ = nd.Hessian(logP, step=1.e-4, method='central')\n",
    "hess = hess_(params) ## this is potentially easier than our Hessian\n",
    "\n",
    "hess_pyross = estimator.compute_hessian(keys, params, guess, \n",
    "                                        stds, x, Tf, Nf, \n",
    "                                        contactMatrix, eps=1.e-4)\n",
    "sigma = np.sqrt(np.diagonal(np.linalg.inv(hess)))\n",
    "sigma_pyross = np.sqrt(np.diagonal(np.linalg.inv(hess_pyross)))\n",
    "\n",
    "## What's the difference? \n",
    "rel_err = np.divide(np.subtract(sigma,sigma_pyross), sigma_pyross)\n",
    "\n",
    "np.set_printoptions(formatter={'float_kind':'{:.8f}'.format})\n",
    "    \n",
    "    \n",
    "print('Numdifftool:   ',sigma)\n",
    "print('NumHessian:    ',sigma_pyross)\n",
    "print('RelError:      ',rel_err)\n",
    "print('\\n')\n",
    "print('Autograd:      ',[0.00547942, 0.00010017, 0.00390985, 0.0012171 ] )\n"
   ]
  },
  {
   "cell_type": "markdown",
   "metadata": {},
   "source": [
    "### Verdict: Our Hessian works better than numdifftool ... verified by autograd hessian (Python + JAX)"
   ]
  }
 ],
 "metadata": {
  "kernelspec": {
   "display_name": "Python 3",
   "language": "python",
   "name": "python3"
  },
  "language_info": {
   "codemirror_mode": {
    "name": "ipython",
    "version": 3
   },
   "file_extension": ".py",
   "mimetype": "text/x-python",
   "name": "python",
   "nbconvert_exporter": "python",
   "pygments_lexer": "ipython3",
   "version": "3.7.6"
  }
 },
 "nbformat": 4,
 "nbformat_minor": 4
}
